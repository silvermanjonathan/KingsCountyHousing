{
 "cells": [
  {
   "cell_type": "code",
   "execution_count": 22,
   "metadata": {},
   "outputs": [],
   "source": [
    "import pandas as pd\n",
    "\n",
    "import numpy as np\n",
    "\n",
    "import datetime\n",
    "\n",
    "from sklearn import linear_model\n",
    "\n",
    "from sklearn.linear_model import LinearRegression\n",
    "\n",
    "from sklearn.model_selection import train_test_split\n",
    "\n",
    "from sklearn import metrics\n",
    "\n",
    "from sklearn.preprocessing import PolynomialFeatures\n",
    "\n",
    "from sklearn.preprocessing import StandardScaler"
   ]
  },
  {
   "cell_type": "code",
   "execution_count": 23,
   "metadata": {},
   "outputs": [],
   "source": [
    "def comma_be_gone_into_int(x):\n",
    "    return int(x.replace(',',''))\n",
    "\n",
    "def BoolsInts(x):\n",
    "    return np.array(list(map(int,x)))"
   ]
  },
  {
   "cell_type": "code",
   "execution_count": 24,
   "metadata": {},
   "outputs": [],
   "source": [
    "df = pd.read_csv(\"kc_house_data_test_features.csv\", index_col=[0])\n",
    "\n",
    "df.reset_index(inplace = True)\n",
    "df.drop('index', axis = 1,inplace = True)"
   ]
  },
  {
   "cell_type": "code",
   "execution_count": 25,
   "metadata": {},
   "outputs": [],
   "source": [
    "df['yard'] = df.sqft_lot - (df.sqft_living/df.floors)\n",
    "\n",
    "df['grade_3'] = [0 for i in range(len(df))]"
   ]
  },
  {
   "cell_type": "code",
   "execution_count": 26,
   "metadata": {},
   "outputs": [],
   "source": [
    "new_column = []\n",
    "\n",
    "for x in range(len(df)):\n",
    "    new_column.append(df.iloc[x].date.split('T')[0][:4] + '-' + df.iloc[x].date.split('T')[0][4:6] + '-' + df.iloc[x].date.split('T')[0][6:])\n",
    "\n",
    "\n",
    "df['date'] = [datetime.datetime.strptime(new_column[i], '%Y-%m-%d') for i in range(len(new_column))]\n",
    "\n",
    "\n",
    "df['winter'] = np.array(list(map(int, [df['date'][i].month in [12,1,2] for i in range(len(df))])));\n",
    "df['spring'] = np.array(list(map(int, [df['date'][i].month in [3,4,5] for i in range(len(df))])));\n",
    "df['summer'] = np.array(list(map(int, [df['date'][i].month in [6,7,8] for i in range(len(df))])));\n",
    "#df['autumn'] = np.array(list(map(int, [df['date'][i].month in [9,10,11] for i in range(len(df))])));\n",
    "df.drop('date',axis=1, inplace = True)"
   ]
  },
  {
   "cell_type": "markdown",
   "metadata": {},
   "source": [
    "---------------------------------------"
   ]
  },
  {
   "cell_type": "code",
   "execution_count": 27,
   "metadata": {},
   "outputs": [
    {
     "data": {
      "text/plain": [
       "24"
      ]
     },
     "execution_count": 27,
     "metadata": {},
     "output_type": "execute_result"
    }
   ],
   "source": [
    "len(df.columns)"
   ]
  },
  {
   "cell_type": "markdown",
   "metadata": {},
   "source": [
    "---------------"
   ]
  },
  {
   "cell_type": "code",
   "execution_count": 28,
   "metadata": {},
   "outputs": [],
   "source": [
    "df['renovated']= np.array(list(map(int,df.yr_renovated != 0)))\n",
    "\n",
    "df.drop(['yr_renovated','yr_built'],axis=1, inplace = True)"
   ]
  },
  {
   "cell_type": "code",
   "execution_count": 29,
   "metadata": {},
   "outputs": [],
   "source": [
    "zip_money_df = pd.read_csv('Seatle_Income_Population.csv')\n",
    "\n",
    "zip_money_df['income'] = [comma_be_gone_into_int(x) for x in zip_money_df.income]\n",
    "\n",
    "zip_money_df = zip_money_df[['zipcode','income']]\n",
    "\n",
    "\n",
    "missing_zips_list = list(set(list(df.zipcode))-set(list(zip_money_df.zipcode)))\n",
    "\n",
    "\n",
    "zip_money_dict = dict(zip(list(zip_money_df.zipcode),list(zip_money_df.income)))\n",
    "\n",
    "\n",
    "for i in missing_zips_list:\n",
    "    \n",
    "    zip_money_dict[i] = sum(zip_money_df.income)/len(zip_money_df)\n",
    "\n",
    " \n",
    "    \n",
    "incomes_in_df_by_row_list = [[round(zip_money_dict[i])] for i in list(df.zipcode)]\n",
    "\n",
    "df_income = pd.DataFrame.from_dict(dict(zip(list(df.index),incomes_in_df_by_row_list))).T\n",
    "\n",
    "df_income.columns = ['income']\n",
    "\n",
    "df['income'] = df_income "
   ]
  },
  {
   "cell_type": "code",
   "execution_count": 30,
   "metadata": {},
   "outputs": [
    {
     "data": {
      "text/plain": [
       "24"
      ]
     },
     "execution_count": 30,
     "metadata": {},
     "output_type": "execute_result"
    }
   ],
   "source": [
    "len(df.columns)"
   ]
  },
  {
   "cell_type": "code",
   "execution_count": 31,
   "metadata": {},
   "outputs": [],
   "source": [
    "mean_lat = df.lat.mean()\n",
    "\n",
    "mean_long = df.long.mean()\n",
    "\n",
    "df_lat_long_punnet = pd.concat([df.lat - mean_lat,df.long - mean_long],axis = 1)\n",
    "\n",
    "df_lat_long_punnet['North_West'] = np.where((df_lat_long_punnet.lat > 0) & (df_lat_long_punnet.long > 0), True, False)\n",
    "\n",
    "df_lat_long_punnet['North_East'] = np.where((df_lat_long_punnet.lat > 0) & (df_lat_long_punnet.long < 0), True, False) \n",
    "\n",
    "df_lat_long_punnet['South_West'] = np.where((df_lat_long_punnet.lat) < 0 & (df_lat_long_punnet.long > 0), True, False) \n",
    "\n",
    "df_lat_long_punnet['South_East'] = np.where((df_lat_long_punnet.lat < 0) & (df_lat_long_punnet.long < 0),True, False)  \n",
    "\n",
    "df_lat_long_punnet.columns = ['lat', 'long','North_West','North_East','South_West','South_East']\n",
    "\n",
    "df_ordinal = df_lat_long_punnet[['North_West','North_East','South_West','South_East']]\n",
    "\n",
    "df_ordinal = df_ordinal.apply(BoolsInts)\n",
    "\n",
    "df_ordinal.drop(['North_West'], axis = 1, inplace = True)\n",
    "\n",
    "df = pd.concat([df,df_ordinal], axis = 1)\n",
    "\n",
    "df.drop(['lat','long'],axis = 1, inplace = True)"
   ]
  },
  {
   "cell_type": "code",
   "execution_count": 32,
   "metadata": {},
   "outputs": [
    {
     "data": {
      "text/plain": [
       "25"
      ]
     },
     "execution_count": 32,
     "metadata": {},
     "output_type": "execute_result"
    }
   ],
   "source": [
    "len(df.columns)"
   ]
  },
  {
   "cell_type": "code",
   "execution_count": 33,
   "metadata": {},
   "outputs": [],
   "source": [
    "categorical = ['view', 'condition', 'grade']\n",
    "\n",
    "dummy_df = pd.get_dummies(data = df[categorical], columns = categorical, drop_first=True)\n",
    "\n",
    "df = pd.concat([df,dummy_df], axis = 1)\n",
    "\n",
    "df.drop(categorical,axis = 1, inplace = True)"
   ]
  },
  {
   "cell_type": "code",
   "execution_count": 34,
   "metadata": {},
   "outputs": [
    {
     "data": {
      "text/plain": [
       "40"
      ]
     },
     "execution_count": 34,
     "metadata": {},
     "output_type": "execute_result"
    }
   ],
   "source": [
    "len(df.columns)"
   ]
  },
  {
   "cell_type": "code",
   "execution_count": 35,
   "metadata": {},
   "outputs": [],
   "source": [
    "df_features = df[df.drop('zipcode', axis = 1).columns[1:]]\n",
    "\n",
    "\n",
    "\n",
    "poly_object = PolynomialFeatures(degree=2, include_bias=False)\n",
    "\n",
    "poly = poly_object.fit_transform(df_features)\n",
    "\n",
    "poly_columns = poly_object.get_feature_names(df_features.columns)\n",
    "\n",
    "poly_df = pd.DataFrame(poly, columns = poly_columns)\n",
    "\n",
    "df = pd.concat([df,poly_df],axis = 1)"
   ]
  },
  {
   "cell_type": "code",
   "execution_count": 36,
   "metadata": {},
   "outputs": [
    {
     "data": {
      "text/plain": [
       "819"
      ]
     },
     "execution_count": 36,
     "metadata": {},
     "output_type": "execute_result"
    }
   ],
   "source": [
    "len(df.columns)"
   ]
  },
  {
   "cell_type": "code",
   "execution_count": 37,
   "metadata": {},
   "outputs": [],
   "source": [
    "dummy_zip_df = pd.get_dummies(data = df['zipcode'])\n",
    "df = pd.concat([df,dummy_zip_df], axis = 1)\n",
    "df.drop('zipcode',axis = 1, inplace = True)\n",
    "\n"
   ]
  },
  {
   "cell_type": "code",
   "execution_count": 38,
   "metadata": {},
   "outputs": [
    {
     "data": {
      "text/plain": [
       "70"
      ]
     },
     "execution_count": 38,
     "metadata": {},
     "output_type": "execute_result"
    }
   ],
   "source": [
    "len(dummy_zip_df.columns)"
   ]
  },
  {
   "cell_type": "code",
   "execution_count": 39,
   "metadata": {},
   "outputs": [
    {
     "data": {
      "text/plain": [
       "888"
      ]
     },
     "execution_count": 39,
     "metadata": {},
     "output_type": "execute_result"
    }
   ],
   "source": [
    "len(df.columns)"
   ]
  },
  {
   "cell_type": "code",
   "execution_count": 43,
   "metadata": {},
   "outputs": [],
   "source": [
    "# Load\n",
    "\n",
    "import pickle\n",
    "\n",
    "with open('features.pickle', 'rb') as file:\n",
    "    features = pickle.load(file)\n"
   ]
  },
  {
   "cell_type": "code",
   "execution_count": 46,
   "metadata": {},
   "outputs": [],
   "source": [
    "with open('model.pickle', 'rb') as file:\n",
    "    lr = pickle.load(file)"
   ]
  },
  {
   "cell_type": "code",
   "execution_count": 50,
   "metadata": {},
   "outputs": [],
   "source": [
    "arr = lr.predict(df[features])"
   ]
  },
  {
   "cell_type": "code",
   "execution_count": 53,
   "metadata": {},
   "outputs": [],
   "source": [
    "arr.tofile('housing_preds_jonathan_silverman.csv', sep = ',')"
   ]
  },
  {
   "cell_type": "code",
   "execution_count": 51,
   "metadata": {},
   "outputs": [
    {
     "data": {
      "text/plain": [
       "array([489742.57978278, 510333.76860148, 450820.48536187, ...,\n",
       "       322487.67593825, 427239.44018519, 314762.52486861])"
      ]
     },
     "execution_count": 51,
     "metadata": {},
     "output_type": "execute_result"
    }
   ],
   "source": [
    "arr"
   ]
  },
  {
   "cell_type": "code",
   "execution_count": 44,
   "metadata": {},
   "outputs": [
    {
     "data": {
      "text/plain": [
       "697"
      ]
     },
     "execution_count": 44,
     "metadata": {},
     "output_type": "execute_result"
    }
   ],
   "source": [
    "len(features)"
   ]
  },
  {
   "cell_type": "code",
   "execution_count": 45,
   "metadata": {},
   "outputs": [
    {
     "data": {
      "text/html": [
       "<div>\n",
       "<style scoped>\n",
       "    .dataframe tbody tr th:only-of-type {\n",
       "        vertical-align: middle;\n",
       "    }\n",
       "\n",
       "    .dataframe tbody tr th {\n",
       "        vertical-align: top;\n",
       "    }\n",
       "\n",
       "    .dataframe thead th {\n",
       "        text-align: right;\n",
       "    }\n",
       "</style>\n",
       "<table border=\"1\" class=\"dataframe\">\n",
       "  <thead>\n",
       "    <tr style=\"text-align: right;\">\n",
       "      <th></th>\n",
       "      <th>bedrooms</th>\n",
       "      <th>bedrooms</th>\n",
       "      <th>bathrooms</th>\n",
       "      <th>bathrooms</th>\n",
       "      <th>sqft_living</th>\n",
       "      <th>sqft_living</th>\n",
       "      <th>sqft_lot</th>\n",
       "      <th>sqft_lot</th>\n",
       "      <th>floors</th>\n",
       "      <th>floors</th>\n",
       "      <th>...</th>\n",
       "      <th>98146</th>\n",
       "      <th>98148</th>\n",
       "      <th>98155</th>\n",
       "      <th>98166</th>\n",
       "      <th>98168</th>\n",
       "      <th>98177</th>\n",
       "      <th>98178</th>\n",
       "      <th>98188</th>\n",
       "      <th>98198</th>\n",
       "      <th>98199</th>\n",
       "    </tr>\n",
       "  </thead>\n",
       "  <tbody>\n",
       "    <tr>\n",
       "      <th>0</th>\n",
       "      <td>4</td>\n",
       "      <td>4.0</td>\n",
       "      <td>2.50</td>\n",
       "      <td>2.50</td>\n",
       "      <td>2270</td>\n",
       "      <td>2270.0</td>\n",
       "      <td>11500</td>\n",
       "      <td>11500.0</td>\n",
       "      <td>1.0</td>\n",
       "      <td>1.0</td>\n",
       "      <td>...</td>\n",
       "      <td>0</td>\n",
       "      <td>0</td>\n",
       "      <td>0</td>\n",
       "      <td>0</td>\n",
       "      <td>0</td>\n",
       "      <td>0</td>\n",
       "      <td>0</td>\n",
       "      <td>0</td>\n",
       "      <td>0</td>\n",
       "      <td>0</td>\n",
       "    </tr>\n",
       "    <tr>\n",
       "      <th>1</th>\n",
       "      <td>4</td>\n",
       "      <td>4.0</td>\n",
       "      <td>2.50</td>\n",
       "      <td>2.50</td>\n",
       "      <td>2270</td>\n",
       "      <td>2270.0</td>\n",
       "      <td>11500</td>\n",
       "      <td>11500.0</td>\n",
       "      <td>1.0</td>\n",
       "      <td>1.0</td>\n",
       "      <td>...</td>\n",
       "      <td>0</td>\n",
       "      <td>0</td>\n",
       "      <td>0</td>\n",
       "      <td>0</td>\n",
       "      <td>0</td>\n",
       "      <td>0</td>\n",
       "      <td>0</td>\n",
       "      <td>0</td>\n",
       "      <td>0</td>\n",
       "      <td>0</td>\n",
       "    </tr>\n",
       "    <tr>\n",
       "      <th>2</th>\n",
       "      <td>3</td>\n",
       "      <td>3.0</td>\n",
       "      <td>2.50</td>\n",
       "      <td>2.50</td>\n",
       "      <td>1470</td>\n",
       "      <td>1470.0</td>\n",
       "      <td>1779</td>\n",
       "      <td>1779.0</td>\n",
       "      <td>2.0</td>\n",
       "      <td>2.0</td>\n",
       "      <td>...</td>\n",
       "      <td>0</td>\n",
       "      <td>0</td>\n",
       "      <td>0</td>\n",
       "      <td>0</td>\n",
       "      <td>0</td>\n",
       "      <td>0</td>\n",
       "      <td>0</td>\n",
       "      <td>0</td>\n",
       "      <td>0</td>\n",
       "      <td>0</td>\n",
       "    </tr>\n",
       "    <tr>\n",
       "      <th>3</th>\n",
       "      <td>3</td>\n",
       "      <td>3.0</td>\n",
       "      <td>1.75</td>\n",
       "      <td>1.75</td>\n",
       "      <td>1280</td>\n",
       "      <td>1280.0</td>\n",
       "      <td>16200</td>\n",
       "      <td>16200.0</td>\n",
       "      <td>1.0</td>\n",
       "      <td>1.0</td>\n",
       "      <td>...</td>\n",
       "      <td>0</td>\n",
       "      <td>0</td>\n",
       "      <td>0</td>\n",
       "      <td>0</td>\n",
       "      <td>0</td>\n",
       "      <td>0</td>\n",
       "      <td>0</td>\n",
       "      <td>0</td>\n",
       "      <td>0</td>\n",
       "      <td>0</td>\n",
       "    </tr>\n",
       "    <tr>\n",
       "      <th>4</th>\n",
       "      <td>4</td>\n",
       "      <td>4.0</td>\n",
       "      <td>2.75</td>\n",
       "      <td>2.75</td>\n",
       "      <td>2830</td>\n",
       "      <td>2830.0</td>\n",
       "      <td>8126</td>\n",
       "      <td>8126.0</td>\n",
       "      <td>2.0</td>\n",
       "      <td>2.0</td>\n",
       "      <td>...</td>\n",
       "      <td>0</td>\n",
       "      <td>0</td>\n",
       "      <td>0</td>\n",
       "      <td>0</td>\n",
       "      <td>0</td>\n",
       "      <td>0</td>\n",
       "      <td>0</td>\n",
       "      <td>0</td>\n",
       "      <td>0</td>\n",
       "      <td>0</td>\n",
       "    </tr>\n",
       "    <tr>\n",
       "      <th>...</th>\n",
       "      <td>...</td>\n",
       "      <td>...</td>\n",
       "      <td>...</td>\n",
       "      <td>...</td>\n",
       "      <td>...</td>\n",
       "      <td>...</td>\n",
       "      <td>...</td>\n",
       "      <td>...</td>\n",
       "      <td>...</td>\n",
       "      <td>...</td>\n",
       "      <td>...</td>\n",
       "      <td>...</td>\n",
       "      <td>...</td>\n",
       "      <td>...</td>\n",
       "      <td>...</td>\n",
       "      <td>...</td>\n",
       "      <td>...</td>\n",
       "      <td>...</td>\n",
       "      <td>...</td>\n",
       "      <td>...</td>\n",
       "      <td>...</td>\n",
       "    </tr>\n",
       "    <tr>\n",
       "      <th>4317</th>\n",
       "      <td>3</td>\n",
       "      <td>3.0</td>\n",
       "      <td>2.50</td>\n",
       "      <td>2.50</td>\n",
       "      <td>1530</td>\n",
       "      <td>1530.0</td>\n",
       "      <td>1131</td>\n",
       "      <td>1131.0</td>\n",
       "      <td>3.0</td>\n",
       "      <td>3.0</td>\n",
       "      <td>...</td>\n",
       "      <td>0</td>\n",
       "      <td>0</td>\n",
       "      <td>0</td>\n",
       "      <td>0</td>\n",
       "      <td>0</td>\n",
       "      <td>0</td>\n",
       "      <td>0</td>\n",
       "      <td>0</td>\n",
       "      <td>0</td>\n",
       "      <td>0</td>\n",
       "    </tr>\n",
       "    <tr>\n",
       "      <th>4318</th>\n",
       "      <td>4</td>\n",
       "      <td>4.0</td>\n",
       "      <td>2.50</td>\n",
       "      <td>2.50</td>\n",
       "      <td>2310</td>\n",
       "      <td>2310.0</td>\n",
       "      <td>5813</td>\n",
       "      <td>5813.0</td>\n",
       "      <td>2.0</td>\n",
       "      <td>2.0</td>\n",
       "      <td>...</td>\n",
       "      <td>1</td>\n",
       "      <td>0</td>\n",
       "      <td>0</td>\n",
       "      <td>0</td>\n",
       "      <td>0</td>\n",
       "      <td>0</td>\n",
       "      <td>0</td>\n",
       "      <td>0</td>\n",
       "      <td>0</td>\n",
       "      <td>0</td>\n",
       "    </tr>\n",
       "    <tr>\n",
       "      <th>4319</th>\n",
       "      <td>2</td>\n",
       "      <td>2.0</td>\n",
       "      <td>0.75</td>\n",
       "      <td>0.75</td>\n",
       "      <td>1020</td>\n",
       "      <td>1020.0</td>\n",
       "      <td>1350</td>\n",
       "      <td>1350.0</td>\n",
       "      <td>2.0</td>\n",
       "      <td>2.0</td>\n",
       "      <td>...</td>\n",
       "      <td>0</td>\n",
       "      <td>0</td>\n",
       "      <td>0</td>\n",
       "      <td>0</td>\n",
       "      <td>0</td>\n",
       "      <td>0</td>\n",
       "      <td>0</td>\n",
       "      <td>0</td>\n",
       "      <td>0</td>\n",
       "      <td>0</td>\n",
       "    </tr>\n",
       "    <tr>\n",
       "      <th>4320</th>\n",
       "      <td>3</td>\n",
       "      <td>3.0</td>\n",
       "      <td>2.50</td>\n",
       "      <td>2.50</td>\n",
       "      <td>1600</td>\n",
       "      <td>1600.0</td>\n",
       "      <td>2388</td>\n",
       "      <td>2388.0</td>\n",
       "      <td>2.0</td>\n",
       "      <td>2.0</td>\n",
       "      <td>...</td>\n",
       "      <td>0</td>\n",
       "      <td>0</td>\n",
       "      <td>0</td>\n",
       "      <td>0</td>\n",
       "      <td>0</td>\n",
       "      <td>0</td>\n",
       "      <td>0</td>\n",
       "      <td>0</td>\n",
       "      <td>0</td>\n",
       "      <td>0</td>\n",
       "    </tr>\n",
       "    <tr>\n",
       "      <th>4321</th>\n",
       "      <td>2</td>\n",
       "      <td>2.0</td>\n",
       "      <td>0.75</td>\n",
       "      <td>0.75</td>\n",
       "      <td>1020</td>\n",
       "      <td>1020.0</td>\n",
       "      <td>1076</td>\n",
       "      <td>1076.0</td>\n",
       "      <td>2.0</td>\n",
       "      <td>2.0</td>\n",
       "      <td>...</td>\n",
       "      <td>0</td>\n",
       "      <td>0</td>\n",
       "      <td>0</td>\n",
       "      <td>0</td>\n",
       "      <td>0</td>\n",
       "      <td>0</td>\n",
       "      <td>0</td>\n",
       "      <td>0</td>\n",
       "      <td>0</td>\n",
       "      <td>0</td>\n",
       "    </tr>\n",
       "  </tbody>\n",
       "</table>\n",
       "<p>4322 rows × 771 columns</p>\n",
       "</div>"
      ],
      "text/plain": [
       "      bedrooms  bedrooms  bathrooms  bathrooms  sqft_living  sqft_living  \\\n",
       "0            4       4.0       2.50       2.50         2270       2270.0   \n",
       "1            4       4.0       2.50       2.50         2270       2270.0   \n",
       "2            3       3.0       2.50       2.50         1470       1470.0   \n",
       "3            3       3.0       1.75       1.75         1280       1280.0   \n",
       "4            4       4.0       2.75       2.75         2830       2830.0   \n",
       "...        ...       ...        ...        ...          ...          ...   \n",
       "4317         3       3.0       2.50       2.50         1530       1530.0   \n",
       "4318         4       4.0       2.50       2.50         2310       2310.0   \n",
       "4319         2       2.0       0.75       0.75         1020       1020.0   \n",
       "4320         3       3.0       2.50       2.50         1600       1600.0   \n",
       "4321         2       2.0       0.75       0.75         1020       1020.0   \n",
       "\n",
       "      sqft_lot  sqft_lot  floors  floors  ...  98146  98148  98155  98166  \\\n",
       "0        11500   11500.0     1.0     1.0  ...      0      0      0      0   \n",
       "1        11500   11500.0     1.0     1.0  ...      0      0      0      0   \n",
       "2         1779    1779.0     2.0     2.0  ...      0      0      0      0   \n",
       "3        16200   16200.0     1.0     1.0  ...      0      0      0      0   \n",
       "4         8126    8126.0     2.0     2.0  ...      0      0      0      0   \n",
       "...        ...       ...     ...     ...  ...    ...    ...    ...    ...   \n",
       "4317      1131    1131.0     3.0     3.0  ...      0      0      0      0   \n",
       "4318      5813    5813.0     2.0     2.0  ...      1      0      0      0   \n",
       "4319      1350    1350.0     2.0     2.0  ...      0      0      0      0   \n",
       "4320      2388    2388.0     2.0     2.0  ...      0      0      0      0   \n",
       "4321      1076    1076.0     2.0     2.0  ...      0      0      0      0   \n",
       "\n",
       "      98168  98177  98178  98188  98198  98199  \n",
       "0         0      0      0      0      0      0  \n",
       "1         0      0      0      0      0      0  \n",
       "2         0      0      0      0      0      0  \n",
       "3         0      0      0      0      0      0  \n",
       "4         0      0      0      0      0      0  \n",
       "...     ...    ...    ...    ...    ...    ...  \n",
       "4317      0      0      0      0      0      0  \n",
       "4318      0      0      0      0      0      0  \n",
       "4319      0      0      0      0      0      0  \n",
       "4320      0      0      0      0      0      0  \n",
       "4321      0      0      0      0      0      0  \n",
       "\n",
       "[4322 rows x 771 columns]"
      ]
     },
     "execution_count": 45,
     "metadata": {},
     "output_type": "execute_result"
    }
   ],
   "source": [
    "df[features]"
   ]
  },
  {
   "cell_type": "code",
   "execution_count": null,
   "metadata": {},
   "outputs": [],
   "source": []
  }
 ],
 "metadata": {
  "kernelspec": {
   "display_name": "Python 3",
   "language": "python",
   "name": "python3"
  },
  "language_info": {
   "codemirror_mode": {
    "name": "ipython",
    "version": 3
   },
   "file_extension": ".py",
   "mimetype": "text/x-python",
   "name": "python",
   "nbconvert_exporter": "python",
   "pygments_lexer": "ipython3",
   "version": "3.8.5"
  }
 },
 "nbformat": 4,
 "nbformat_minor": 4
}
