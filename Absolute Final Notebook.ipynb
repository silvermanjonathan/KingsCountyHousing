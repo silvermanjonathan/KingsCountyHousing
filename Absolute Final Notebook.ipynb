{
 "cells": [
  {
   "cell_type": "code",
   "execution_count": 70,
   "metadata": {},
   "outputs": [],
   "source": [
    "import pandas as pd\n",
    "import numpy as np\n",
    "from scipy import stats \n",
    "import datetime\n",
    "\n",
    "import matplotlib.pyplot as plt\n",
    "import seaborn as sns\n",
    "\n",
    "from scipy.stats import stats\n",
    "\n",
    "\n",
    "from sklearn import linear_model\n",
    "from sklearn.linear_model import LinearRegression\n",
    "from sklearn.model_selection import train_test_split\n",
    "from sklearn import metrics\n",
    "from sklearn.preprocessing import PolynomialFeatures\n",
    "from sklearn.preprocessing import StandardScaler\n",
    "import seaborn as sns"
   ]
  },
  {
   "cell_type": "code",
   "execution_count": 79,
   "metadata": {},
   "outputs": [],
   "source": [
    "def comma_be_gone_into_int(x):\n",
    "    return int(x.replace(',',''))\n",
    "\n",
    "def BoolsInts(x):\n",
    "    return np.array(list(map(int,x)))\n",
    "\n",
    "def standardize_scale(x):\n",
    "    return (x - np.mean(x))/(np.std(x))"
   ]
  },
  {
   "cell_type": "code",
   "execution_count": 80,
   "metadata": {},
   "outputs": [],
   "source": [
    "df = pd.read_csv(\"kc_house_data_train.csv\", index_col=[0])\n",
    "\n",
    "df.drop('id', axis = 1, inplace = True)\n",
    "\n",
    "#### Get rid of outliers\n",
    "\n",
    "df.loc[df.bedrooms == 33, \"bedrooms\"] = 3\n"
   ]
  },
  {
   "cell_type": "markdown",
   "metadata": {},
   "source": [
    "put in data viz and statistics for seasons and if renovated status"
   ]
  },
  {
   "cell_type": "code",
   "execution_count": 81,
   "metadata": {},
   "outputs": [],
   "source": [
    "df['yard'] = df.sqft_lot - (df.sqft_living/df.floors)"
   ]
  },
  {
   "cell_type": "code",
   "execution_count": 82,
   "metadata": {},
   "outputs": [],
   "source": [
    "new_column = []\n",
    "\n",
    "for x in range(len(df)):\n",
    "    new_column.append(df.iloc[x].date.split('T')[0][:4] + '-' + df.iloc[x].date.split('T')[0][4:6] + '-' + df.iloc[x].date.split('T')[0][6:])\n",
    "\n",
    "\n",
    "df['date'] = [datetime.datetime.strptime(new_column[i], '%Y-%m-%d') for i in range(len(new_column))]\n",
    "\n",
    "\n",
    "df['winter'] = np.array(list(map(int, [df['date'][i].month in [12,1,2] for i in range(len(df))])));\n",
    "df['spring'] = np.array(list(map(int, [df['date'][i].month in [3,4,5] for i in range(len(df))])));\n",
    "df['summer'] = np.array(list(map(int, [df['date'][i].month in [6,7,8] for i in range(len(df))])));\n",
    "#df['autumn'] = np.array(list(map(int, [df['date'][i].month in [9,10,11] for i in range(len(df))])));\n",
    "df.drop('date',axis=1, inplace = True)"
   ]
  },
  {
   "cell_type": "code",
   "execution_count": 83,
   "metadata": {},
   "outputs": [],
   "source": [
    "df['renovated']= np.array(list(map(int,df.yr_renovated != 0)))\n",
    "\n",
    "df.drop(['yr_renovated','yr_built'],axis=1, inplace = True)"
   ]
  },
  {
   "cell_type": "markdown",
   "metadata": {},
   "source": [
    "-------------------------------------------------------------------------------------"
   ]
  },
  {
   "cell_type": "markdown",
   "metadata": {},
   "source": [
    "income"
   ]
  },
  {
   "cell_type": "markdown",
   "metadata": {},
   "source": [
    "--------------------------------------------------"
   ]
  },
  {
   "cell_type": "code",
   "execution_count": 84,
   "metadata": {},
   "outputs": [],
   "source": [
    "zip_money_df = pd.read_csv('Seatle_Income_Population.csv')\n",
    "\n",
    "zip_money_df['income'] = [comma_be_gone_into_int(x) for x in zip_money_df.income]\n",
    "\n",
    "zip_money_df = zip_money_df[['zipcode','income']]\n",
    "\n",
    "\n",
    "missing_zips_list = list(set(list(df.zipcode))-set(list(zip_money_df.zipcode)))\n",
    "\n",
    "\n",
    "zip_money_dict = dict(zip(list(zip_money_df.zipcode),list(zip_money_df.income)))\n",
    "\n",
    "\n",
    "for i in missing_zips_list:\n",
    "    \n",
    "    zip_money_dict[i] = sum(zip_money_df.income)/len(zip_money_df)\n",
    "\n",
    " \n",
    "    \n",
    "incomes_in_df_by_row_list = [[round(zip_money_dict[i])] for i in list(df.zipcode)]\n",
    "\n",
    "df_income = pd.DataFrame.from_dict(dict(zip(list(df.index),incomes_in_df_by_row_list))).T\n",
    "\n",
    "df_income.columns = ['income']\n",
    "\n",
    "df['income'] = df_income "
   ]
  },
  {
   "cell_type": "code",
   "execution_count": 85,
   "metadata": {},
   "outputs": [
    {
     "data": {
      "text/plain": [
       "23"
      ]
     },
     "execution_count": 85,
     "metadata": {},
     "output_type": "execute_result"
    }
   ],
   "source": [
    "len(df.columns)"
   ]
  },
  {
   "cell_type": "markdown",
   "metadata": {},
   "source": [
    "-----"
   ]
  },
  {
   "cell_type": "markdown",
   "metadata": {},
   "source": [
    "latitude longitude punnet"
   ]
  },
  {
   "cell_type": "markdown",
   "metadata": {},
   "source": [
    "---------------------------------------"
   ]
  },
  {
   "cell_type": "code",
   "execution_count": 86,
   "metadata": {},
   "outputs": [],
   "source": [
    "mean_lat = df.lat.mean()\n",
    "\n",
    "mean_long = df.long.mean()\n",
    "\n",
    "df_lat_long_punnet = pd.concat([df.lat - mean_lat,df.long - mean_long],axis = 1)\n",
    "\n",
    "df_lat_long_punnet['North_West'] = np.where((df_lat_long_punnet.lat > 0) & (df_lat_long_punnet.long > 0), True, False)\n",
    "\n",
    "df_lat_long_punnet['North_East'] = np.where((df_lat_long_punnet.lat > 0) & (df_lat_long_punnet.long < 0), True, False) \n",
    "\n",
    "df_lat_long_punnet['South_West'] = np.where((df_lat_long_punnet.lat) < 0 & (df_lat_long_punnet.long > 0), True, False) \n",
    "\n",
    "df_lat_long_punnet['South_East'] = np.where((df_lat_long_punnet.lat < 0) & (df_lat_long_punnet.long < 0),True, False)  \n",
    "\n",
    "df_lat_long_punnet.columns = ['lat', 'long','North_West','North_East','South_West','South_East']\n",
    "\n",
    "df_ordinal = df_lat_long_punnet[['North_West','North_East','South_West','South_East']]\n",
    "\n",
    "df_ordinal = df_ordinal.apply(BoolsInts)\n",
    "\n",
    "df_ordinal.drop(['North_West'], axis = 1, inplace = True)\n",
    "\n",
    "df = pd.concat([df,df_ordinal], axis = 1)\n",
    "\n",
    "df.drop(['lat','long'],axis = 1, inplace = True)\n"
   ]
  },
  {
   "cell_type": "code",
   "execution_count": 41,
   "metadata": {},
   "outputs": [
    {
     "data": {
      "text/plain": [
       "24"
      ]
     },
     "execution_count": 41,
     "metadata": {},
     "output_type": "execute_result"
    }
   ],
   "source": [
    "len(df.columns)"
   ]
  },
  {
   "cell_type": "markdown",
   "metadata": {},
   "source": [
    "---------------------------------------------"
   ]
  },
  {
   "cell_type": "markdown",
   "metadata": {},
   "source": [
    "Do a Linear Fit."
   ]
  },
  {
   "cell_type": "markdown",
   "metadata": {},
   "source": [
    "--------------------"
   ]
  },
  {
   "cell_type": "code",
   "execution_count": 42,
   "metadata": {},
   "outputs": [
    {
     "name": "stdout",
     "output_type": "stream",
     "text": [
      "0.7026450999556817\n",
      "Training Root Mean Squared Error: 204700.36759718368\n",
      "Testing Root Mean Squared Error: 196883.7374649138\n"
     ]
    }
   ],
   "source": [
    "from sklearn.model_selection import train_test_split\n",
    "\n",
    "\n",
    "X = df.drop(['price'],axis = 1)\n",
    "y = df.price\n",
    "\n",
    "\n",
    "X_train, X_test, y_train, y_test = train_test_split(X, y,\n",
    "                                                    test_size=0.2,\n",
    "                                                    random_state=42)\n",
    "lr = LinearRegression()\n",
    "\n",
    "lr.fit(X_train, y_train)\n",
    "\n",
    "print(lr.score(X_train, y_train))\n",
    "\n",
    "y_train_pred = lr.predict(X_train)\n",
    "\n",
    "y_test_pred = lr.predict(X_test)\n",
    "\n",
    "from sklearn import metrics\n",
    "\n",
    "train_rmse = np.sqrt(metrics.mean_squared_error(y_train, y_train_pred))\n",
    "\n",
    "test_rmse = np.sqrt(metrics.mean_squared_error(y_test, y_test_pred))\n",
    "\n",
    "print('Training Root Mean Squared Error:' , train_rmse)\n",
    "print('Testing Root Mean Squared Error:' , test_rmse)"
   ]
  },
  {
   "cell_type": "markdown",
   "metadata": {},
   "source": [
    "--------------"
   ]
  },
  {
   "cell_type": "markdown",
   "metadata": {},
   "source": [
    "Create the target variable, the df of only the continous variables, and only the the categorical variables. \n",
    "Do Polynomials on the continous, and not the categorical variables.  concatenate them. \n",
    "do recursive feature eliminaion"
   ]
  },
  {
   "cell_type": "markdown",
   "metadata": {},
   "source": [
    "--------------------"
   ]
  },
  {
   "cell_type": "code",
   "execution_count": 43,
   "metadata": {},
   "outputs": [
    {
     "data": {
      "text/plain": [
       "Index(['price', 'bedrooms', 'bathrooms', 'sqft_living', 'sqft_lot', 'floors',\n",
       "       'waterfront', 'view', 'condition', 'grade', 'sqft_above',\n",
       "       'sqft_basement', 'zipcode', 'sqft_living15', 'sqft_lot15', 'yard',\n",
       "       'winter', 'spring', 'summer', 'renovated', 'income', 'North_East',\n",
       "       'South_West', 'South_East'],\n",
       "      dtype='object')"
      ]
     },
     "execution_count": 43,
     "metadata": {},
     "output_type": "execute_result"
    }
   ],
   "source": [
    "df.columns"
   ]
  },
  {
   "cell_type": "code",
   "execution_count": 44,
   "metadata": {},
   "outputs": [],
   "source": [
    "continous = ['bedrooms','bathrooms','sqft_living','sqft_lot','floors','sqft_above','sqft_basement','sqft_living15','sqft_lot15','income','yard']\n",
    "\n",
    "one_hots = ['waterfront','winter','spring','summer','renovated','North_East','South_West','South_East']\n",
    "\n",
    "categorical = ['view', 'condition', 'grade']\n",
    "\n"
   ]
  },
  {
   "cell_type": "code",
   "execution_count": 45,
   "metadata": {},
   "outputs": [],
   "source": [
    "dummy_df = pd.get_dummies(data = df[categorical], columns = categorical, drop_first=True)"
   ]
  },
  {
   "cell_type": "code",
   "execution_count": 46,
   "metadata": {},
   "outputs": [],
   "source": [
    "df = pd.concat([df,dummy_df], axis = 1)"
   ]
  },
  {
   "cell_type": "code",
   "execution_count": 47,
   "metadata": {},
   "outputs": [],
   "source": [
    "df.drop(categorical,axis = 1, inplace = True)"
   ]
  },
  {
   "cell_type": "code",
   "execution_count": 48,
   "metadata": {},
   "outputs": [
    {
     "data": {
      "text/plain": [
       "40"
      ]
     },
     "execution_count": 48,
     "metadata": {},
     "output_type": "execute_result"
    }
   ],
   "source": [
    "len(df.columns)"
   ]
  },
  {
   "cell_type": "code",
   "execution_count": 49,
   "metadata": {},
   "outputs": [],
   "source": [
    "df_features = df[df.drop('zipcode', axis = 1).columns[1:]]\n",
    "\n",
    "\n",
    "\n",
    "poly_object = PolynomialFeatures(degree=2, include_bias=False)\n",
    "\n",
    "poly = poly_object.fit_transform(df_features)\n",
    "\n",
    "poly_columns = poly_object.get_feature_names(df_features.columns)\n",
    "\n",
    "poly_df = pd.DataFrame(poly, columns = poly_columns)\n",
    "\n",
    "df = pd.concat([df,poly_df],axis = 1)"
   ]
  },
  {
   "cell_type": "code",
   "execution_count": 50,
   "metadata": {},
   "outputs": [
    {
     "data": {
      "text/plain": [
       "819"
      ]
     },
     "execution_count": 50,
     "metadata": {},
     "output_type": "execute_result"
    }
   ],
   "source": [
    "len(df.columns)"
   ]
  },
  {
   "cell_type": "code",
   "execution_count": 51,
   "metadata": {},
   "outputs": [],
   "source": [
    "dummy_zip_df = pd.get_dummies(data = df['zipcode'])\n",
    "df = pd.concat([df,dummy_zip_df], axis = 1)\n",
    "df.drop('zipcode',axis = 1, inplace = True)\n",
    "\n"
   ]
  },
  {
   "cell_type": "code",
   "execution_count": 52,
   "metadata": {},
   "outputs": [
    {
     "data": {
      "text/plain": [
       "70"
      ]
     },
     "execution_count": 52,
     "metadata": {},
     "output_type": "execute_result"
    }
   ],
   "source": [
    "len(dummy_zip_df.columns) "
   ]
  },
  {
   "cell_type": "code",
   "execution_count": 53,
   "metadata": {},
   "outputs": [
    {
     "data": {
      "text/plain": [
       "888"
      ]
     },
     "execution_count": 53,
     "metadata": {},
     "output_type": "execute_result"
    }
   ],
   "source": [
    "len(df.columns)"
   ]
  },
  {
   "cell_type": "markdown",
   "metadata": {},
   "source": [
    "------------------------------"
   ]
  },
  {
   "cell_type": "code",
   "execution_count": 22,
   "metadata": {},
   "outputs": [
    {
     "data": {
      "text/plain": [
       "888"
      ]
     },
     "execution_count": 22,
     "metadata": {},
     "output_type": "execute_result"
    }
   ],
   "source": [
    "len(df.columns)"
   ]
  },
  {
   "cell_type": "markdown",
   "metadata": {},
   "source": [
    "---------------------------------------"
   ]
  },
  {
   "cell_type": "code",
   "execution_count": 23,
   "metadata": {},
   "outputs": [
    {
     "name": "stdout",
     "output_type": "stream",
     "text": [
      "0.912389214058145\n",
      "Training Root Mean Squared Error: 111111.71756273948\n",
      "Testing Root Mean Squared Error: 140310.12772682743\n"
     ]
    }
   ],
   "source": [
    "from sklearn.model_selection import train_test_split\n",
    "\n",
    "\n",
    "X = df.drop(['price'],axis = 1)\n",
    "y = df.price\n",
    "\n",
    "\n",
    "X_train, X_test, y_train, y_test = train_test_split(X, y,\n",
    "                                                    test_size=0.2,\n",
    "                                                    random_state=42)\n",
    "lr = LinearRegression()\n",
    "\n",
    "lr.fit(X_train, y_train)\n",
    "\n",
    "print(lr.score(X_train, y_train))\n",
    "\n",
    "y_train_pred = lr.predict(X_train)\n",
    "\n",
    "y_test_pred = lr.predict(X_test)\n",
    "\n",
    "from sklearn import metrics\n",
    "\n",
    "train_rmse = np.sqrt(metrics.mean_squared_error(y_train, y_train_pred))\n",
    "\n",
    "test_rmse = np.sqrt(metrics.mean_squared_error(y_test, y_test_pred))\n",
    "\n",
    "print('Training Root Mean Squared Error:' , train_rmse)\n",
    "print('Testing Root Mean Squared Error:' , test_rmse)"
   ]
  },
  {
   "cell_type": "markdown",
   "metadata": {},
   "source": [
    "---------------------------------------------------------------"
   ]
  },
  {
   "cell_type": "markdown",
   "metadata": {},
   "source": [
    "Use recursive feature elimination to improve model "
   ]
  },
  {
   "cell_type": "markdown",
   "metadata": {},
   "source": [
    "--------------------------------------------------------"
   ]
  },
  {
   "cell_type": "code",
   "execution_count": 24,
   "metadata": {},
   "outputs": [
    {
     "name": "stdout",
     "output_type": "stream",
     "text": [
      "Fitting estimator with 887 features.\n",
      "Fitting estimator with 877 features.\n",
      "Fitting estimator with 867 features.\n",
      "Fitting estimator with 857 features.\n",
      "Fitting estimator with 847 features.\n",
      "Fitting estimator with 837 features.\n",
      "Fitting estimator with 827 features.\n",
      "Fitting estimator with 817 features.\n",
      "Fitting estimator with 807 features.\n",
      "Fitting estimator with 797 features.\n",
      "Fitting estimator with 787 features.\n",
      "Fitting estimator with 777 features.\n",
      "Fitting estimator with 767 features.\n",
      "Fitting estimator with 757 features.\n",
      "Fitting estimator with 747 features.\n",
      "Fitting estimator with 737 features.\n",
      "Fitting estimator with 727 features.\n",
      "Fitting estimator with 717 features.\n",
      "Fitting estimator with 707 features.\n"
     ]
    },
    {
     "data": {
      "text/plain": [
       "RFECV(cv=7, estimator=LinearRegression(), n_jobs=-1,\n",
       "      scoring='neg_mean_squared_error', step=10, verbose=1)"
      ]
     },
     "execution_count": 24,
     "metadata": {},
     "output_type": "execute_result"
    }
   ],
   "source": [
    "from sklearn.feature_selection import RFECV\n",
    "\n",
    "ols = LinearRegression()\n",
    "\n",
    "\n",
    "selector = RFECV(estimator=ols, step=10, cv=7, scoring='neg_mean_squared_error', n_jobs=-1, verbose=1)\n",
    "\n",
    "\n",
    "selector.fit(X_train, y_train)"
   ]
  },
  {
   "cell_type": "code",
   "execution_count": 25,
   "metadata": {},
   "outputs": [
    {
     "name": "stdout",
     "output_type": "stream",
     "text": [
      "Training Root Mean Squared Error: 112146.03577691791\n",
      "Testing Root Mean Squared Error: 145389.54929279338\n"
     ]
    }
   ],
   "source": [
    "selected_rfe = X_train.columns[selector.support_]\n",
    "\n",
    "\n",
    "lm_rfe = LinearRegression()\n",
    "\n",
    "\n",
    "lm_rfe = lm_rfe.fit(X_train[selected_rfe], y_train)\n",
    "\n",
    "y_rfe = lm_rfe.predict(X_train[selected_rfe])\n",
    "\n",
    "\n",
    "trainRFE_rmse = np.sqrt(metrics.mean_squared_error(y_train, y_rfe))\n",
    "\n",
    "\n",
    "print('Training Root Mean Squared Error:' , trainRFE_rmse)\n",
    "\n",
    "y_pred_rfe = lm_rfe.predict(X_test[selected_rfe])\n",
    "\n",
    "testRFE_rmse = np.sqrt(metrics.mean_squared_error(y_test, y_pred_rfe))\n",
    "\n",
    "print('Testing Root Mean Squared Error:' , testRFE_rmse)\n",
    "\n"
   ]
  },
  {
   "cell_type": "markdown",
   "metadata": {},
   "source": [
    "--------------------------------------------------------------------------------"
   ]
  },
  {
   "cell_type": "markdown",
   "metadata": {},
   "source": [
    "Final Model getting coefficients from predicting on our entire data set, before the train-test split"
   ]
  },
  {
   "cell_type": "markdown",
   "metadata": {},
   "source": [
    "-------------------------------------------------"
   ]
  },
  {
   "cell_type": "code",
   "execution_count": 26,
   "metadata": {},
   "outputs": [
    {
     "name": "stdout",
     "output_type": "stream",
     "text": [
      "0.9008744503176274\n"
     ]
    }
   ],
   "source": [
    "#instantiate a linear regression object\n",
    "lm_final = LinearRegression()\n",
    "\n",
    "#fit the linear regression to the data\n",
    "lm_final = lm_final.fit(X[selected_rfe], y)\n",
    "\n",
    "lm_final.coef_\n",
    "\n",
    "print(lr.score(X, y))"
   ]
  },
  {
   "cell_type": "code",
   "execution_count": 27,
   "metadata": {},
   "outputs": [],
   "source": [
    "import pickle\n",
    "\n",
    "\n",
    "pickle_out = open(\"model.pickle\",\"wb\")\n",
    "pickle.dump(lm_final, pickle_out)\n",
    "pickle_out.close()"
   ]
  },
  {
   "cell_type": "code",
   "execution_count": 28,
   "metadata": {},
   "outputs": [],
   "source": [
    "pickle_out = open('features.pickle','wb')\n",
    "pickle.dump(list(selected_rfe), pickle_out)\n",
    "pickle_out.close()"
   ]
  },
  {
   "cell_type": "markdown",
   "metadata": {},
   "source": [
    "---------------"
   ]
  },
  {
   "cell_type": "code",
   "execution_count": 54,
   "metadata": {},
   "outputs": [
    {
     "data": {
      "text/plain": [
       "697"
      ]
     },
     "execution_count": 54,
     "metadata": {},
     "output_type": "execute_result"
    }
   ],
   "source": [
    "len(selected_rfe)"
   ]
  },
  {
   "cell_type": "markdown",
   "metadata": {},
   "source": [
    "-------------"
   ]
  },
  {
   "cell_type": "markdown",
   "metadata": {},
   "source": [
    "Statistics and Visualizations"
   ]
  },
  {
   "cell_type": "markdown",
   "metadata": {},
   "source": [
    "----------------------------------------------"
   ]
  },
  {
   "cell_type": "markdown",
   "metadata": {},
   "source": [
    "Ordinal Directions"
   ]
  },
  {
   "cell_type": "markdown",
   "metadata": {},
   "source": [
    "-------------------------------------------------------------------"
   ]
  },
  {
   "cell_type": "code",
   "execution_count": 87,
   "metadata": {},
   "outputs": [
    {
     "data": {
      "image/png": "[encoded data removed]",
      "text/plain": [
       "<Figure size 432x288 with 1 Axes>"
      ]
     },
     "metadata": {},
     "output_type": "display_data"
    },
    {
     "data": {
      "text/plain": [
       "F_onewayResult(statistic=1219.4567735967246, pvalue=0.0)"
      ]
     },
     "execution_count": 87,
     "metadata": {},
     "output_type": "execute_result"
    }
   ],
   "source": [
    "df_lat_long_punnet['price'] = df.price\n",
    "\n",
    "North_West = df_lat_long_punnet[df_lat_long_punnet['North_West']].price\n",
    "\n",
    "North_East = df_lat_long_punnet[df_lat_long_punnet['North_East']].price\n",
    "\n",
    "South_West = df_lat_long_punnet[df_lat_long_punnet['South_West']].price\n",
    "\n",
    "South_East = df_lat_long_punnet[df_lat_long_punnet['South_East']].price\n",
    "\n",
    "Punnet_df = pd.DataFrame([North_West,North_East,South_West,South_East]).T\n",
    "\n",
    "sns.set(style=\"darkgrid\")\n",
    "\n",
    "Punnet_df = pd.DataFrame([North_West,North_East,South_West,South_East]).T\n",
    "\n",
    "Punnet_df.columns.values[0] = \"North_West\"\n",
    "\n",
    "Punnet_df.columns.values[1] = \"North_East\"\n",
    "\n",
    "Punnet_df.columns.values[2] = \"South_West\"\n",
    "\n",
    "Punnet_df.columns.values[3] = \"South_East\"\n",
    "\n",
    "df = Punnet_df\n",
    "\n",
    "sns.histplot(data=df.apply(standardize_scale), x=\"North_West\", color=\"gold\", label=\"North West\", kde=True , stat = 'density')\n",
    "\n",
    "sns.histplot(data=df.apply(standardize_scale), x=\"North_East\", color=\"purple\", label=\"North East\", kde=True , stat = 'density')\n",
    "\n",
    "sns.histplot(data=df.apply(standardize_scale), x=\"South_West\", color=\"green\", label=\"South West\", kde=True , stat = 'density')\n",
    "\n",
    "sns.histplot(data=df.apply(standardize_scale), x=\"South_East\", color=\"brown\", label=\"South East\", kde=True , stat = 'density')\n",
    "\n",
    "\n",
    "plt.legend() \n",
    "\n",
    "plt.show()\n",
    "\n",
    "stats.f_oneway(North_West, North_East, South_West, South_East)"
   ]
  },
  {
   "cell_type": "markdown",
   "metadata": {},
   "source": [
    "---------------------------------------------------------------------------------------------------------"
   ]
  },
  {
   "cell_type": "code",
   "execution_count": 106,
   "metadata": {},
   "outputs": [
    {
     "data": {
      "text/plain": [
       "F_onewayResult(statistic=1790.0484329706985, pvalue=0.0)"
      ]
     },
     "execution_count": 106,
     "metadata": {},
     "output_type": "execute_result"
    },
    {
     "data": {
      "image/png": "[encoded data removed]",
      "text/plain": [
       "<Figure size 432x288 with 1 Axes>"
      ]
     },
     "metadata": {},
     "output_type": "display_data"
    }
   ],
   "source": [
    "df = pd.read_csv(\"kc_house_data_train.csv\", index_col=[0])\n",
    "\n",
    "grade_8 = df[df.grade == 8].price.values\n",
    "\n",
    "grade_11 = df[df.grade == 11].price.values\n",
    "\n",
    "grade_12 = df[df.grade == 12].price.values\n",
    "\n",
    "grade_9 = df[df.grade == 9].price.values\n",
    "\n",
    "grade_7 = df[df.grade == 7].price.values\n",
    "\n",
    "grade_6 = df[df.grade == 6].price.values\n",
    "\n",
    "grade_5 = df[df.grade == 5].price.values\n",
    "\n",
    "grade_13 = df[df.grade == 13].price.values\n",
    "\n",
    "grade_4 = df[df.grade == 4].price.values\n",
    "\n",
    "grade_3 = df[df.grade == 3].price.values\n",
    "\n",
    "grade_1 = df[df.grade == 1].price.values\n",
    "\n",
    "sns.boxplot( x=df[\"grade\"], y=df[\"price\"])\n",
    "\n",
    "stats.f_oneway(grade_8,grade_11,grade_12,grade_9,grade_7,grade_6,grade_5,grade_13,grade_4 , grade_3,grade_1)"
   ]
  },
  {
   "cell_type": "markdown",
   "metadata": {},
   "source": [
    "-----------------------------------------------------"
   ]
  },
  {
   "cell_type": "code",
   "execution_count": 109,
   "metadata": {},
   "outputs": [
    {
     "data": {
      "image/png": "[encoded data removed]",
      "text/plain": [
       "<Figure size 432x288 with 1 Axes>"
      ]
     },
     "metadata": {},
     "output_type": "display_data"
    }
   ],
   "source": [
    "sns.regplot(x=df['bedrooms'], y=df[\"price\"], line_kws={\"color\":\"r\",\"alpha\":0.7,\"lw\":5})\n",
    "plt.show()"
   ]
  },
  {
   "cell_type": "code",
   "execution_count": 112,
   "metadata": {},
   "outputs": [
    {
     "data": {
      "image/png": "[encoded data removed]",
      "text/plain": [
       "<Figure size 432x288 with 1 Axes>"
      ]
     },
     "metadata": {},
     "output_type": "display_data"
    }
   ],
   "source": [
    "sns.regplot(x=list(df.groupby('bedrooms')['price'].mean().index), y=list(df.groupby('bedrooms')['price'].mean().values), line_kws={\"color\":\"r\",\"alpha\":0.7,\"lw\":5})\n",
    "plt.show()"
   ]
  },
  {
   "cell_type": "code",
   "execution_count": 113,
   "metadata": {},
   "outputs": [
    {
     "data": {
      "image/png": "[encoded data removed]",
      "text/plain": [
       "<Figure size 432x288 with 1 Axes>"
      ]
     },
     "metadata": {},
     "output_type": "display_data"
    }
   ],
   "source": [
    "sns.regplot(x=list(df.groupby('bathrooms')['price'].mean().index), y=list(df.groupby('bathrooms')['price'].mean().values), line_kws={\"color\":\"r\",\"alpha\":0.7,\"lw\":5})\n",
    "import pandas as pd\n",
    "\n",
    "plt.show()"
   ]
  }
 ],
 "metadata": {
  "kernelspec": {
   "display_name": "Python 3",
   "language": "python",
   "name": "python3"
  },
  "language_info": {
   "codemirror_mode": {
    "name": "ipython",
    "version": 3
   },
   "file_extension": ".py",
   "mimetype": "text/x-python",
   "name": "python",
   "nbconvert_exporter": "python",
   "pygments_lexer": "ipython3",
   "version": "3.8.5"
  }
 },
 "nbformat": 4,
 "nbformat_minor": 4
}
